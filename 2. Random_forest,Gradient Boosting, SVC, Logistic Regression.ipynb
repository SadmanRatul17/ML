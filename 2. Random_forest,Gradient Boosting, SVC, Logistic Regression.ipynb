{
 "cells": [
  {
   "cell_type": "code",
   "execution_count": 10,
   "id": "20a4ce8f",
   "metadata": {},
   "outputs": [],
   "source": [
    "import numpy as np\n",
    "import pandas as pd\n",
    "import matplotlib.pyplot as plt\n",
    "import seaborn as sns\n",
    "\n",
    "from sklearn.model_selection import train_test_split\n",
    "from sklearn.ensemble import RandomForestClassifier,GradientBoostingClassifier\n",
    "from sklearn.svm import SVC\n",
    "from sklearn.linear_model import LogisticRegression\n",
    "from sklearn.metrics import accuracy_score"
   ]
  },
  {
   "cell_type": "code",
   "execution_count": 4,
   "id": "2faad5d4",
   "metadata": {},
   "outputs": [
    {
     "data": {
      "text/html": [
       "<div>\n",
       "<style scoped>\n",
       "    .dataframe tbody tr th:only-of-type {\n",
       "        vertical-align: middle;\n",
       "    }\n",
       "\n",
       "    .dataframe tbody tr th {\n",
       "        vertical-align: top;\n",
       "    }\n",
       "\n",
       "    .dataframe thead th {\n",
       "        text-align: right;\n",
       "    }\n",
       "</style>\n",
       "<table border=\"1\" class=\"dataframe\">\n",
       "  <thead>\n",
       "    <tr style=\"text-align: right;\">\n",
       "      <th></th>\n",
       "      <th>Title</th>\n",
       "      <th>energy</th>\n",
       "      <th>fat</th>\n",
       "      <th>protein</th>\n",
       "      <th>salt</th>\n",
       "      <th>saturates</th>\n",
       "      <th>sugars</th>\n",
       "      <th>remarks</th>\n",
       "    </tr>\n",
       "  </thead>\n",
       "  <tbody>\n",
       "    <tr>\n",
       "      <th>0</th>\n",
       "      <td>Yogurt Parfaits</td>\n",
       "      <td>81.129461</td>\n",
       "      <td>2.140139</td>\n",
       "      <td>6.914437</td>\n",
       "      <td>0.055978</td>\n",
       "      <td>0.365347</td>\n",
       "      <td>5.086341</td>\n",
       "      <td>1.0</td>\n",
       "    </tr>\n",
       "    <tr>\n",
       "      <th>1</th>\n",
       "      <td>Salt Free, Low Cholesterol Sugar Cookies Recipe</td>\n",
       "      <td>477.096404</td>\n",
       "      <td>23.412486</td>\n",
       "      <td>7.625492</td>\n",
       "      <td>0.548621</td>\n",
       "      <td>3.425054</td>\n",
       "      <td>14.298443</td>\n",
       "      <td>0.0</td>\n",
       "    </tr>\n",
       "    <tr>\n",
       "      <th>2</th>\n",
       "      <td>Honey Sriracha Chicken Wings</td>\n",
       "      <td>208.058983</td>\n",
       "      <td>14.297046</td>\n",
       "      <td>15.383456</td>\n",
       "      <td>1.063915</td>\n",
       "      <td>4.535687</td>\n",
       "      <td>3.048951</td>\n",
       "      <td>1.0</td>\n",
       "    </tr>\n",
       "    <tr>\n",
       "      <th>3</th>\n",
       "      <td>Shrimp and Caper Salad</td>\n",
       "      <td>194.752596</td>\n",
       "      <td>15.980767</td>\n",
       "      <td>11.946687</td>\n",
       "      <td>0.614843</td>\n",
       "      <td>2.366704</td>\n",
       "      <td>0.314583</td>\n",
       "      <td>1.0</td>\n",
       "    </tr>\n",
       "    <tr>\n",
       "      <th>4</th>\n",
       "      <td>Natural Peanut Butter Chocolate Bon Bons</td>\n",
       "      <td>303.435400</td>\n",
       "      <td>5.094847</td>\n",
       "      <td>5.067961</td>\n",
       "      <td>0.019791</td>\n",
       "      <td>2.048394</td>\n",
       "      <td>63.210605</td>\n",
       "      <td>0.0</td>\n",
       "    </tr>\n",
       "    <tr>\n",
       "      <th>...</th>\n",
       "      <td>...</td>\n",
       "      <td>...</td>\n",
       "      <td>...</td>\n",
       "      <td>...</td>\n",
       "      <td>...</td>\n",
       "      <td>...</td>\n",
       "      <td>...</td>\n",
       "      <td>...</td>\n",
       "    </tr>\n",
       "    <tr>\n",
       "      <th>16377</th>\n",
       "      <td>Back-To-School Raspberry Granola Bars</td>\n",
       "      <td>578.550488</td>\n",
       "      <td>49.338998</td>\n",
       "      <td>1.001004</td>\n",
       "      <td>0.371370</td>\n",
       "      <td>30.320862</td>\n",
       "      <td>34.483957</td>\n",
       "      <td>NaN</td>\n",
       "    </tr>\n",
       "    <tr>\n",
       "      <th>16378</th>\n",
       "      <td>Chocolate Toffee Bites</td>\n",
       "      <td>638.768632</td>\n",
       "      <td>62.901880</td>\n",
       "      <td>1.199706</td>\n",
       "      <td>0.041489</td>\n",
       "      <td>38.736438</td>\n",
       "      <td>19.112361</td>\n",
       "      <td>NaN</td>\n",
       "    </tr>\n",
       "    <tr>\n",
       "      <th>16379</th>\n",
       "      <td>Buttermilk Horseradish Dressing</td>\n",
       "      <td>40.215671</td>\n",
       "      <td>0.886831</td>\n",
       "      <td>3.262967</td>\n",
       "      <td>1.441130</td>\n",
       "      <td>0.537045</td>\n",
       "      <td>4.861279</td>\n",
       "      <td>NaN</td>\n",
       "    </tr>\n",
       "    <tr>\n",
       "      <th>16380</th>\n",
       "      <td>Steamed White Rice</td>\n",
       "      <td>39.945440</td>\n",
       "      <td>0.085737</td>\n",
       "      <td>0.828137</td>\n",
       "      <td>0.006820</td>\n",
       "      <td>0.023772</td>\n",
       "      <td>0.015588</td>\n",
       "      <td>NaN</td>\n",
       "    </tr>\n",
       "    <tr>\n",
       "      <th>16381</th>\n",
       "      <td>Taco Seasoning</td>\n",
       "      <td>301.193756</td>\n",
       "      <td>6.737068</td>\n",
       "      <td>12.742577</td>\n",
       "      <td>4.064891</td>\n",
       "      <td>1.284359</td>\n",
       "      <td>6.192225</td>\n",
       "      <td>NaN</td>\n",
       "    </tr>\n",
       "  </tbody>\n",
       "</table>\n",
       "<p>16382 rows × 8 columns</p>\n",
       "</div>"
      ],
      "text/plain": [
       "                                                 Title      energy        fat  \\\n",
       "0                                      Yogurt Parfaits   81.129461   2.140139   \n",
       "1      Salt Free, Low Cholesterol Sugar Cookies Recipe  477.096404  23.412486   \n",
       "2                         Honey Sriracha Chicken Wings  208.058983  14.297046   \n",
       "3                               Shrimp and Caper Salad  194.752596  15.980767   \n",
       "4             Natural Peanut Butter Chocolate Bon Bons  303.435400   5.094847   \n",
       "...                                                ...         ...        ...   \n",
       "16377            Back-To-School Raspberry Granola Bars  578.550488  49.338998   \n",
       "16378                           Chocolate Toffee Bites  638.768632  62.901880   \n",
       "16379                  Buttermilk Horseradish Dressing   40.215671   0.886831   \n",
       "16380                               Steamed White Rice   39.945440   0.085737   \n",
       "16381                                   Taco Seasoning  301.193756   6.737068   \n",
       "\n",
       "         protein      salt  saturates     sugars  remarks  \n",
       "0       6.914437  0.055978   0.365347   5.086341      1.0  \n",
       "1       7.625492  0.548621   3.425054  14.298443      0.0  \n",
       "2      15.383456  1.063915   4.535687   3.048951      1.0  \n",
       "3      11.946687  0.614843   2.366704   0.314583      1.0  \n",
       "4       5.067961  0.019791   2.048394  63.210605      0.0  \n",
       "...          ...       ...        ...        ...      ...  \n",
       "16377   1.001004  0.371370  30.320862  34.483957      NaN  \n",
       "16378   1.199706  0.041489  38.736438  19.112361      NaN  \n",
       "16379   3.262967  1.441130   0.537045   4.861279      NaN  \n",
       "16380   0.828137  0.006820   0.023772   0.015588      NaN  \n",
       "16381  12.742577  4.064891   1.284359   6.192225      NaN  \n",
       "\n",
       "[16382 rows x 8 columns]"
      ]
     },
     "execution_count": 4,
     "metadata": {},
     "output_type": "execute_result"
    }
   ],
   "source": [
    "df = pd.read_csv('data_1000.csv')\n",
    "df"
   ]
  },
  {
   "cell_type": "code",
   "execution_count": 5,
   "id": "7268d98b",
   "metadata": {},
   "outputs": [
    {
     "name": "stdout",
     "output_type": "stream",
     "text": [
      "<class 'pandas.core.frame.DataFrame'>\n",
      "Index: 1018 entries, 0 to 1017\n",
      "Data columns (total 8 columns):\n",
      " #   Column     Non-Null Count  Dtype  \n",
      "---  ------     --------------  -----  \n",
      " 0   Title      1018 non-null   object \n",
      " 1   energy     1018 non-null   float64\n",
      " 2   fat        1018 non-null   float64\n",
      " 3   protein    1018 non-null   float64\n",
      " 4   salt       1018 non-null   float64\n",
      " 5   saturates  1018 non-null   float64\n",
      " 6   sugars     1018 non-null   float64\n",
      " 7   remarks    1018 non-null   float64\n",
      "dtypes: float64(7), object(1)\n",
      "memory usage: 71.6+ KB\n",
      "None\n"
     ]
    }
   ],
   "source": [
    "df_new = df.dropna(subset=['remarks'])  # remove all missing values\n",
    "print(df_new.info())"
   ]
  },
  {
   "cell_type": "code",
   "execution_count": 6,
   "id": "44b256b9",
   "metadata": {},
   "outputs": [],
   "source": [
    "x = df_new.iloc[:,1:7].values\n",
    "y = df_new.iloc[:,7:].values"
   ]
  },
  {
   "cell_type": "code",
   "execution_count": 7,
   "id": "cfe368fd",
   "metadata": {},
   "outputs": [],
   "source": [
    "x_train, x_test, y_train, y_test = train_test_split(x, y, test_size = 0.2, random_state = 42)"
   ]
  },
  {
   "cell_type": "markdown",
   "id": "8fc36779",
   "metadata": {},
   "source": [
    "## Random Forest"
   ]
  },
  {
   "cell_type": "code",
   "execution_count": 22,
   "id": "93bdccf4",
   "metadata": {},
   "outputs": [
    {
     "data": {
      "text/plain": [
       "0.7941176470588235"
      ]
     },
     "execution_count": 22,
     "metadata": {},
     "output_type": "execute_result"
    }
   ],
   "source": [
    "rf = RandomForestClassifier()\n",
    "rf.fit(x_train,y_train)\n",
    "y_pred = rf.predict(x_test)\n",
    "accuracy_score(y_test,y_pred)"
   ]
  },
  {
   "cell_type": "markdown",
   "id": "46d3c576",
   "metadata": {},
   "source": [
    "## Gradient Boosting"
   ]
  },
  {
   "cell_type": "code",
   "execution_count": 17,
   "id": "b7039ab7",
   "metadata": {},
   "outputs": [
    {
     "data": {
      "text/plain": [
       "0.7696078431372549"
      ]
     },
     "execution_count": 17,
     "metadata": {},
     "output_type": "execute_result"
    }
   ],
   "source": [
    "gb = GradientBoostingClassifier()\n",
    "gb.fit(x_train,y_train)\n",
    "y_pred = gb.predict(x_test)\n",
    "accuracy_score(y_test,y_pred)"
   ]
  },
  {
   "cell_type": "markdown",
   "id": "994c9f60",
   "metadata": {},
   "source": [
    "## SVC"
   ]
  },
  {
   "cell_type": "code",
   "execution_count": 18,
   "id": "b5df10b4",
   "metadata": {},
   "outputs": [
    {
     "data": {
      "text/plain": [
       "0.7352941176470589"
      ]
     },
     "execution_count": 18,
     "metadata": {},
     "output_type": "execute_result"
    }
   ],
   "source": [
    "svc=SVC()\n",
    "svc.fit(x_train,y_train)\n",
    "y_pred = svc.predict(x_test)\n",
    "accuracy_score(y_test,y_pred)"
   ]
  },
  {
   "cell_type": "markdown",
   "id": "2e776aae",
   "metadata": {},
   "source": [
    "## Logistic Regression"
   ]
  },
  {
   "cell_type": "code",
   "execution_count": 20,
   "id": "5eeaffc4",
   "metadata": {},
   "outputs": [
    {
     "data": {
      "text/plain": [
       "0.7549019607843137"
      ]
     },
     "execution_count": 20,
     "metadata": {},
     "output_type": "execute_result"
    }
   ],
   "source": [
    "lr=LogisticRegression()\n",
    "lr.fit(x_train,y_train)\n",
    "y_pred = lr.predict(x_test)\n",
    "accuracy_score(y_test,y_pred)"
   ]
  },
  {
   "cell_type": "code",
   "execution_count": null,
   "id": "f061febe",
   "metadata": {},
   "outputs": [],
   "source": []
  }
 ],
 "metadata": {
  "kernelspec": {
   "display_name": "Python 3 (ipykernel)",
   "language": "python",
   "name": "python3"
  },
  "language_info": {
   "codemirror_mode": {
    "name": "ipython",
    "version": 3
   },
   "file_extension": ".py",
   "mimetype": "text/x-python",
   "name": "python",
   "nbconvert_exporter": "python",
   "pygments_lexer": "ipython3",
   "version": "3.11.5"
  }
 },
 "nbformat": 4,
 "nbformat_minor": 5
}
